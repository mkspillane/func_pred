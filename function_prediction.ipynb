{
 "cells": [
  {
   "cell_type": "code",
   "execution_count": 1,
   "metadata": {},
   "outputs": [],
   "source": [
    "\n",
    "import numpy as np\n",
    "import h5py\n",
    "import matplotlib.pyplot as plt\n",
    "import copy\n",
    "\n",
    "from keras.models import Sequential\n",
    "from keras.layers import Dense\n",
    "from keras.layers import LSTM\n",
    "\n",
    "%run defs_NN.ipynb"
   ]
  },
  {
   "cell_type": "code",
   "execution_count": 93,
   "metadata": {},
   "outputs": [
    {
     "name": "stdout",
     "output_type": "stream",
     "text": [
      "Epoch 1/5\n",
      " - 76s - loss: 0.0159\n",
      "Epoch 2/5\n",
      " - 71s - loss: 7.3278e-04\n",
      "Epoch 3/5\n",
      " - 74s - loss: 1.3593e-04\n",
      "Epoch 4/5\n",
      " - 77s - loss: 7.0475e-05\n",
      "Epoch 5/5\n",
      " - 69s - loss: 5.7316e-05\n"
     ]
    },
    {
     "data": {
      "text/plain": [
       "<keras.callbacks.History at 0xb44ce1da0>"
      ]
     },
     "execution_count": 93,
     "metadata": {},
     "output_type": "execute_result"
    }
   ],
   "source": [
    "def f(x,sigma):\n",
    "    # The function to be learned.\n",
    "    \n",
    "    return np.sin(2*x)\n",
    "\n",
    "    \n",
    "examples = 5000\n",
    "points_in = 3\n",
    "divisor = 10.\n",
    "s=4\n",
    "\n",
    "np.random.seed(1)\n",
    "X1 = np.zeros((examples,points_in))\n",
    "Y1 = np.zeros((examples,points_in))\n",
    "Z1= np.zeros((examples,1))\n",
    "    \n",
    "    \n",
    "for i in range(examples):\n",
    "    rand = 20*(np.random.rand()-1)\n",
    "    X1_temp = 1.*np.arange(points_in).reshape(-1, 1)/divisor+rand\n",
    "    X1_temp = X1_temp.reshape((points_in,))\n",
    "    X2_temp = f(X1_temp,s).ravel()+np.random.randn()*0.0\n",
    "    X2_temp = X2_temp.reshape((points_in,))\n",
    "    Y1[i,:] = X2_temp\n",
    "    X1[i,:] = X1_temp\n",
    "    \n",
    "    Y1_temp = 1.*(np.arange(1).reshape(-1, 1)+points_in)/divisor+rand\n",
    "    Y2_temp = (f(Y1_temp,s)-f(Y1_temp-1/divisor,s)).ravel()\n",
    "    Y2_temp = Y2_temp.reshape((1,))\n",
    "    Z1[i,:] = Y2_temp\n",
    "    \n",
    "X1= X1.T\n",
    "Y1=Y1.T\n",
    "Z1=Z1.T\n",
    "\n",
    "\n",
    "model = Sequential()\n",
    "model.add(LSTM(4, input_shape=(points_in*2, 1)))\n",
    "model.add(Dense(1))\n",
    "model.compile(loss='mean_squared_error', optimizer='adam')\n",
    "model.fit(np.concatenate((X1,Y1)).T.reshape((examples,points_in*2,1)), Z1.T, epochs=5, batch_size=1, verbose=2)\n"
   ]
  },
  {
   "cell_type": "code",
   "execution_count": 94,
   "metadata": {},
   "outputs": [],
   "source": [
    "para = initialize_parameters_deep_tl((points_in,points_in,points_in),rint=3) \n",
    "\n",
    "j2,para_f = mom_grad_desc(Z1,X1,Y1,para,1500,.1,.001)"
   ]
  },
  {
   "cell_type": "code",
   "execution_count": 95,
   "metadata": {},
   "outputs": [],
   "source": [
    "pred_x = np.arange(100).reshape(-1, 1)/divisor\n",
    "act_f = f(pred_x,s)\n",
    "pred_f = 0*np.sin(2 * np.pi * pred_x)\n",
    "pred_f2 = 0*np.sin(2 * np.pi * pred_x)\n",
    "\n",
    "\n",
    "for i in range(points_in):\n",
    "    pred_f[i]=act_f[i]\n",
    "    pred_f2[i]=act_f[i]\n",
    "    \n",
    "Xp = np.concatenate((pred_x,act_f,pred_f,pred_f2),axis=1)\n",
    "\n",
    "for i in range(Xp.shape[0]-points_in):\n",
    "    Xp[i+points_in,2]=NN_forward(Xp[i:i+points_in,0].reshape((points_in,1)),Xp[i:i+points_in,2].reshape((points_in,1)),para_f)[0]+Xp[i+points_in-1,2]\n",
    "    Xp[i+points_in,3]=model.predict(np.concatenate((Xp[i:i+points_in,0],Xp[i:i+points_in,3])).T.reshape((1,points_in*2,1)))+Xp[i+points_in-1,3]"
   ]
  },
  {
   "cell_type": "code",
   "execution_count": 96,
   "metadata": {},
   "outputs": [],
   "source": [
    "np.savetxt(\"Xp.csv\", Xp, delimiter=\",\")\n"
   ]
  },
  {
   "cell_type": "code",
   "execution_count": 98,
   "metadata": {},
   "outputs": [
    {
     "data": {
      "image/png": "[encoded data removed]",
      "text/plain": [
       "<Figure size 432x288 with 1 Axes>"
      ]
     },
     "metadata": {
      "needs_background": "light"
     },
     "output_type": "display_data"
    }
   ],
   "source": [
    "%matplotlib inline\n",
    "from matplotlib import pyplot as plt\n",
    "fig = plt.figure()\n",
    "ax = fig.add_axes([0,0,1,1])\n",
    "ax.plot(Xp[:,0],Xp[:,1],'r',label = 'f(x)')\n",
    "ax.plot(Xp[:,0],Xp[:,2],'b',label = 'My model')\n",
    "ax.plot(Xp[:,0],Xp[:,3],'g',label = 'LSTM')\n",
    "ax.set_xlabel('x')\n",
    "ax.set_ylabel('f(x)')\n",
    "ax.set_title('Gaussian prediction')\n",
    "ax.legend()\n",
    "plt.show()\n"
   ]
  },
  {
   "cell_type": "code",
   "execution_count": 45,
   "metadata": {},
   "outputs": [],
   "source": []
  },
  {
   "cell_type": "code",
   "execution_count": null,
   "metadata": {},
   "outputs": [],
   "source": []
  }
 ],
 "metadata": {
  "kernelspec": {
   "display_name": "Python 3",
   "language": "python",
   "name": "python3"
  },
  "language_info": {
   "codemirror_mode": {
    "name": "ipython",
    "version": 3
   },
   "file_extension": ".py",
   "mimetype": "text/x-python",
   "name": "python",
   "nbconvert_exporter": "python",
   "pygments_lexer": "ipython3",
   "version": "3.7.3"
  }
 },
 "nbformat": 4,
 "nbformat_minor": 2
}
